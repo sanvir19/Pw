{
 "cells": [
  {
   "cell_type": "markdown",
   "id": "95d916fd-c7de-45ea-b0af-31329a17abd9",
   "metadata": {},
   "source": [
    "Q1. Explain Class and Object with respect to Object-Oriented Programming. Give a suitable example."
   ]
  },
  {
   "cell_type": "code",
   "execution_count": 1,
   "id": "bfaae0ce-0605-46f5-9039-c1634534a2ab",
   "metadata": {},
   "outputs": [],
   "source": [
    "# A class is a Template or bule print describes the behavior\n",
    "class A:\n",
    "    def abc(self):\n",
    "        print(\"opps\")"
   ]
  },
  {
   "cell_type": "markdown",
   "id": "7eed94b3-a7c6-42a9-9d35-f1be24e8c0de",
   "metadata": {},
   "source": [
    "Q2. Name the four pillars of OOPs."
   ]
  },
  {
   "cell_type": "code",
   "execution_count": 2,
   "id": "c962e420-fbb5-4f40-9dcd-5f2a4a153583",
   "metadata": {},
   "outputs": [],
   "source": [
    "# The Four Pillars of Object Oriented Programming\n",
    "# Abstraction.\n",
    "# Encapsulation.\n",
    "# Inheritance.\n",
    "# Polymorphism.\n"
   ]
  },
  {
   "cell_type": "markdown",
   "id": "b8f81a7a-b61c-40dc-9d3f-fe44b02bc5bb",
   "metadata": {},
   "source": [
    "Q3. Explain why the __init__() function is used. Give a suitable example."
   ]
  },
  {
   "cell_type": "code",
   "execution_count": 4,
   "id": "e34401b0-b49c-4656-870f-90afbdc6d169",
   "metadata": {},
   "outputs": [],
   "source": [
    "# All classes have a function called __init__(), which is always executed when the class is being initiated."
   ]
  },
  {
   "cell_type": "markdown",
   "id": "5d35cc04-54d1-40dc-92fb-3ebbfc10ea99",
   "metadata": {},
   "source": [
    "Q4. Why self is used in OOPs?"
   ]
  },
  {
   "cell_type": "code",
   "execution_count": 5,
   "id": "395f3752-f122-4cfe-9b6e-d45ff7db960a",
   "metadata": {},
   "outputs": [],
   "source": [
    "# self represents the instance of the class. By using the “self”  we can access the attributes and methods of the class in python."
   ]
  },
  {
   "cell_type": "markdown",
   "id": "565abd57-adc7-4663-82f8-f25342ae8fdd",
   "metadata": {},
   "source": [
    "Q5. What is inheritance? Give an example for each type of inheritance."
   ]
  },
  {
   "cell_type": "code",
   "execution_count": null,
   "id": "eb723601-0090-4f96-8cae-df60af582ca5",
   "metadata": {},
   "outputs": [],
   "source": [
    "# 1. single inheritance\n",
    "# 2. multiple inheritances \n",
    "# 3. multilevel inheritance \n",
    "# 4. Hierarchical Inheritance\n",
    "# 5. Hybrid Inheritance: "
   ]
  },
  {
   "cell_type": "code",
   "execution_count": null,
   "id": "37be941e-da9b-4961-976b-532bd72779a1",
   "metadata": {},
   "outputs": [],
   "source": []
  }
 ],
 "metadata": {
  "kernelspec": {
   "display_name": "Python 3 (ipykernel)",
   "language": "python",
   "name": "python3"
  },
  "language_info": {
   "codemirror_mode": {
    "name": "ipython",
    "version": 3
   },
   "file_extension": ".py",
   "mimetype": "text/x-python",
   "name": "python",
   "nbconvert_exporter": "python",
   "pygments_lexer": "ipython3",
   "version": "3.10.8"
  }
 },
 "nbformat": 4,
 "nbformat_minor": 5
}
