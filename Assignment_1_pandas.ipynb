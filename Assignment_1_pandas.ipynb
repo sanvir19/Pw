{
 "cells": [
  {
   "cell_type": "markdown",
   "id": "4d6a84b2-b1b2-4509-be2c-7b06289941e5",
   "metadata": {},
   "source": [
    "Q1. Create a Pandas Series that contains the following data: 4, 8, 15, 16, 23, and 42. Then, print the series."
   ]
  },
  {
   "cell_type": "code",
   "execution_count": 2,
   "id": "57435ae3-1790-4b52-9035-c90cc6f23a56",
   "metadata": {},
   "outputs": [
    {
     "data": {
      "text/plain": [
       "0     4\n",
       "1     8\n",
       "2    15\n",
       "3    16\n",
       "4    23\n",
       "5    42\n",
       "dtype: int64"
      ]
     },
     "execution_count": 2,
     "metadata": {},
     "output_type": "execute_result"
    }
   ],
   "source": [
    "import pandas as pd\n",
    "df = [4,8,15,16,23,42]\n",
    "pd.Series(df)"
   ]
  },
  {
   "cell_type": "markdown",
   "id": "a66d8b0f-a3b7-4933-9748-7553a4fdc47b",
   "metadata": {},
   "source": [
    "Q2. Create a variable of list type containing 10 elements in it, and apply pandas.Series function on the\n",
    "variable print it."
   ]
  },
  {
   "cell_type": "code",
   "execution_count": 3,
   "id": "007133fa-a012-4a41-b039-d6261d7c38e4",
   "metadata": {},
   "outputs": [
    {
     "data": {
      "text/plain": [
       "0     1\n",
       "1     2\n",
       "2     3\n",
       "3     4\n",
       "4     5\n",
       "5     6\n",
       "6     7\n",
       "7     8\n",
       "8     9\n",
       "9    10\n",
       "dtype: int64"
      ]
     },
     "execution_count": 3,
     "metadata": {},
     "output_type": "execute_result"
    }
   ],
   "source": [
    "df1 = [1,2,3,4,5,6,7,8,9,10]\n",
    "pd.Series(df1)"
   ]
  },
  {
   "cell_type": "markdown",
   "id": "ab85d89e-655e-4d3f-afb6-952a1333a681",
   "metadata": {},
   "source": [
    "Q3. Create a Pandas DataFrame that contains the following data:"
   ]
  },
  {
   "cell_type": "code",
   "execution_count": 7,
   "id": "31e93252-971a-46bb-b4eb-bbc98103ee17",
   "metadata": {},
   "outputs": [
    {
     "data": {
      "text/html": [
       "<div>\n",
       "<style scoped>\n",
       "    .dataframe tbody tr th:only-of-type {\n",
       "        vertical-align: middle;\n",
       "    }\n",
       "\n",
       "    .dataframe tbody tr th {\n",
       "        vertical-align: top;\n",
       "    }\n",
       "\n",
       "    .dataframe thead th {\n",
       "        text-align: right;\n",
       "    }\n",
       "</style>\n",
       "<table border=\"1\" class=\"dataframe\">\n",
       "  <thead>\n",
       "    <tr style=\"text-align: right;\">\n",
       "      <th></th>\n",
       "      <th>name</th>\n",
       "      <th>Age</th>\n",
       "      <th>gender</th>\n",
       "    </tr>\n",
       "  </thead>\n",
       "  <tbody>\n",
       "    <tr>\n",
       "      <th>0</th>\n",
       "      <td>Alice</td>\n",
       "      <td>25</td>\n",
       "      <td>Female</td>\n",
       "    </tr>\n",
       "    <tr>\n",
       "      <th>1</th>\n",
       "      <td>Bob</td>\n",
       "      <td>30</td>\n",
       "      <td>Male</td>\n",
       "    </tr>\n",
       "    <tr>\n",
       "      <th>2</th>\n",
       "      <td>Claire</td>\n",
       "      <td>27</td>\n",
       "      <td>Female</td>\n",
       "    </tr>\n",
       "  </tbody>\n",
       "</table>\n",
       "</div>"
      ],
      "text/plain": [
       "     name  Age  gender\n",
       "0   Alice   25  Female\n",
       "1     Bob   30    Male\n",
       "2  Claire   27  Female"
      ]
     },
     "execution_count": 7,
     "metadata": {},
     "output_type": "execute_result"
    }
   ],
   "source": [
    "df2 = {\n",
    "    \"name\" : [\"Alice\" , \"Bob\" , \"Claire\"],\n",
    "    \"Age\" : [25,30,27],\n",
    "    \"gender\" : [\"Female\",\"Male\" , \"Female\"],\n",
    "}\n",
    "pd.DataFrame(df2)\n"
   ]
  },
  {
   "cell_type": "markdown",
   "id": "e70086f2-ce0f-4761-b7a2-fffc65f77286",
   "metadata": {},
   "source": [
    "Q4. What is ‘DataFrame’ in pandas and how is it different from pandas.series? Explain with an example."
   ]
  },
  {
   "cell_type": "code",
   "execution_count": 16,
   "id": "f58620f9-d2f6-4037-a9d6-97de4307cd3b",
   "metadata": {},
   "outputs": [],
   "source": [
    " # DataFrame as a collection of pandas Series objects, where each Series represents a column of data."
   ]
  },
  {
   "cell_type": "markdown",
   "id": "43b23568-a585-4a4d-bfb5-e353759d1e63",
   "metadata": {},
   "source": [
    "Q5. What are some common functions you can use to manipulate data in a Pandas DataFrame? Can\n",
    "you give an example of when you might use one of these functions?"
   ]
  },
  {
   "cell_type": "code",
   "execution_count": 18,
   "id": "977bf597-6d35-4486-9de6-c4cf6394d4ff",
   "metadata": {},
   "outputs": [],
   "source": [
    "# head , tail , isna , Describe , Valueounts , Columns , sum , shape , size , info etc"
   ]
  },
  {
   "cell_type": "markdown",
   "id": "f164c35b-a652-4399-896a-38bec8a6941c",
   "metadata": {},
   "source": [
    "Q6. Which of the following is mutable in nature Series, DataFrame, Panel?"
   ]
  },
  {
   "cell_type": "code",
   "execution_count": 19,
   "id": "a2a3e166-f17e-4c6b-a606-ff99d494ff35",
   "metadata": {},
   "outputs": [],
   "source": [
    "# all are mutable like Serice DataFrame, Panel"
   ]
  },
  {
   "cell_type": "markdown",
   "id": "bbc058d0-f7ef-4d6d-9ff6-e54822b86b88",
   "metadata": {},
   "source": [
    "Q7. Create a DataFrame using multiple Series. Explain with an example."
   ]
  },
  {
   "cell_type": "code",
   "execution_count": 3,
   "id": "2b2e6013-57f1-4def-96cb-1eff3de7b299",
   "metadata": {},
   "outputs": [
    {
     "name": "stdout",
     "output_type": "stream",
     "text": [
      "   0  1  2\n",
      "0  a  1  5\n",
      "1  b  2  6\n",
      "2  c  3  7\n"
     ]
    }
   ],
   "source": [
    "\n",
    "a = pd.Series([\"a\",\"b\",\"c\"])\n",
    "b = pd.Series([1,2,3])\n",
    "c  = pd.Series([5,6,7])\n",
    "\n",
    "\n",
    "# df=pd.concat([a,b],axis=1)\n",
    "\n",
    "\n",
    "df=pd.concat([a,b,c],axis=1)\n",
    "print(df)\n"
   ]
  },
  {
   "cell_type": "code",
   "execution_count": null,
   "id": "47fe343c-759f-4b6d-8110-3edc1f7b4f8c",
   "metadata": {},
   "outputs": [],
   "source": []
  }
 ],
 "metadata": {
  "kernelspec": {
   "display_name": "Python 3 (ipykernel)",
   "language": "python",
   "name": "python3"
  },
  "language_info": {
   "codemirror_mode": {
    "name": "ipython",
    "version": 3
   },
   "file_extension": ".py",
   "mimetype": "text/x-python",
   "name": "python",
   "nbconvert_exporter": "python",
   "pygments_lexer": "ipython3",
   "version": "3.10.8"
  }
 },
 "nbformat": 4,
 "nbformat_minor": 5
}
