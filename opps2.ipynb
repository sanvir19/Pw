{
 "cells": [
  {
   "cell_type": "markdown",
   "id": "8720e1ca-5ca7-4663-8edc-76f2c95a108a",
   "metadata": {},
   "source": [
    "Q1. What is Abstraction in OOps? Explain with an example."
   ]
  },
  {
   "cell_type": "code",
   "execution_count": 1,
   "id": "06b70e35-d863-49cc-8ec4-a823c1f7294f",
   "metadata": {},
   "outputs": [],
   "source": [
    "# Abstraction is the process of hiding the internal details of an application from the outer world. Abstraction is used to describe things in simple terms. It’s used to create a boundary between the application and the client programs.\n",
    "\n",
    "from abc import ABC\n",
    "class cname(ABC):\n",
    "    def abc(self):\n",
    "        pass"
   ]
  },
  {
   "cell_type": "markdown",
   "id": "659cd839-3439-44f2-bfa2-c4f83e2bb52f",
   "metadata": {},
   "source": [
    "Q2. Differentiate between Abstraction and Encapsulation. Explain with an example."
   ]
  },
  {
   "cell_type": "code",
   "execution_count": null,
   "id": "1b9cf2b5-4a24-4761-955d-b63125c4e8a4",
   "metadata": {},
   "outputs": [],
   "source": [
    "# Abstraction is a way of representing some specific data. Encapsulation is a way of hiding the complexity of something and exposing only the parts you wish to expose\n",
    "\n",
    "from abc import ABC\n",
    "class cname(ABC):\n",
    "    def abc(self):\n",
    "        pass\n",
    "    \n",
    "class a:\n",
    "    def __init__(self):\n",
    "        self._a = 5\n",
    "        self.__b = 6"
   ]
  },
  {
   "cell_type": "markdown",
   "id": "5bcbe0b6-db40-49d4-9622-bbbb7c06a900",
   "metadata": {},
   "source": [
    "Q3. What is abc module in python? Why is it used?"
   ]
  },
  {
   "cell_type": "code",
   "execution_count": null,
   "id": "c9c2759f-86ba-4bae-9c61-8c08757479aa",
   "metadata": {},
   "outputs": [],
   "source": [
    "# provides the infrastructure for defining custom abstract base classes"
   ]
  },
  {
   "cell_type": "markdown",
   "id": "78739825-3028-42b0-9cf5-9bb6de17f413",
   "metadata": {},
   "source": [
    "Q4. How can we achieve data abstraction?"
   ]
  },
  {
   "cell_type": "code",
   "execution_count": null,
   "id": "d7b1b15f-4c93-41db-8ce6-fa51a0fba61b",
   "metadata": {},
   "outputs": [],
   "source": [
    "# An abstraction can be achieved using classes. A class is used to group all the data members and member functions into a single unit by using the access specifiers."
   ]
  },
  {
   "cell_type": "markdown",
   "id": "93f29b94-cfff-43f8-bea5-3bf74298dd36",
   "metadata": {},
   "source": [
    "Q5. Can we create an instance of an abstract class? Explain your answer."
   ]
  },
  {
   "cell_type": "code",
   "execution_count": null,
   "id": "597a7e36-dd1b-4da1-a879-3de2c651d803",
   "metadata": {},
   "outputs": [],
   "source": [
    "# Abstract classes are not complete, as they may have some methods that are not defined. So we cannot create an instance or object of an abstract class in Python."
   ]
  }
 ],
 "metadata": {
  "kernelspec": {
   "display_name": "Python 3 (ipykernel)",
   "language": "python",
   "name": "python3"
  },
  "language_info": {
   "codemirror_mode": {
    "name": "ipython",
    "version": 3
   },
   "file_extension": ".py",
   "mimetype": "text/x-python",
   "name": "python",
   "nbconvert_exporter": "python",
   "pygments_lexer": "ipython3",
   "version": "3.10.8"
  }
 },
 "nbformat": 4,
 "nbformat_minor": 5
}
