{
 "cells": [
  {
   "cell_type": "markdown",
   "id": "cdcfbdbf-2c51-487d-b677-bd22850d4c68",
   "metadata": {},
   "source": [
    "Q1- Eplain the followin with example\n",
    "  1. ML\n",
    "  2. DL\n",
    "  3. AI"
   ]
  },
  {
   "cell_type": "raw",
   "id": "441df880-a142-465e-86fc-137070121dc4",
   "metadata": {},
   "source": [
    "AI (Artificial Intelligence): The simulation of human intelligence processes by machines, enabling them to perform tasks like reasoning, problem-solving, and decision-making.\n",
    "\n",
    "ML (Machine Learning): A subset of AI that involves the use of algorithms to enable computers to learn patterns from data and improve their performance over time without explicit programming.\n",
    "\n",
    "DL (Deep Learning): A specialized form of machine learning that uses neural networks with multiple layers to automatically learn complex patterns and representations from data, often achieving state-of-the-art performance in tasks like image and speech recognition."
   ]
  },
  {
   "cell_type": "markdown",
   "id": "72fc6013-9137-4dbb-a0f7-b34ac50509ad",
   "metadata": {},
   "source": [
    "Q2 What is Supervised Learning and list of example of supervised learning "
   ]
  },
  {
   "cell_type": "raw",
   "id": "6ebaa101-8d73-418e-85d3-0264bf8093d2",
   "metadata": {},
   "source": [
    "Supervised learning is a type of machine learning where the algorithm learns from labeled training data, and then makes predictions or classifications on new, unseen data.\n",
    "\n",
    "example\n",
    "\n",
    "Image Classification \n",
    "Sentiment Analysis\n",
    "Speech Recognition\n",
    "Medical Diagnosis\n",
    "Credit Scoring"
   ]
  },
  {
   "cell_type": "markdown",
   "id": "9d4325f2-95e0-4cdb-9345-71fb17d00473",
   "metadata": {},
   "source": [
    "Q3. what is unsupervised learning and list of example "
   ]
  },
  {
   "cell_type": "raw",
   "id": "3e7ba333-585b-41b8-8209-8fbce1c71a0d",
   "metadata": {},
   "source": [
    "Unsupervised learning is a type of machine learning where the algorithm learns from unlabeled data without explicit input-output pairs. The goal is to find patterns, relationships, or structures within the data without specific guidance.\n",
    "\n",
    "example :-\n",
    "\n",
    "Clustering\n",
    "Dimensionality Reduction\n",
    "Anomaly Detection\n",
    "Topic Modeling\n",
    "Density Estimation\n",
    "Recommendation Systems"
   ]
  },
  {
   "cell_type": "markdown",
   "id": "e55ad8f1-936a-44a4-aa98-c417e4eff137",
   "metadata": {},
   "source": [
    "Q4. what is the different  between ML,DL,AI and DS"
   ]
  },
  {
   "cell_type": "raw",
   "id": "0e52f625-6b77-4fac-bb62-53f9fed2d824",
   "metadata": {},
   "source": [
    "Definition\t\n",
    "\n",
    "ML:- Subset of AI involving algorithms that enable machines to learn from data.\t\n",
    "DL:- Specialized form of ML using deep neural networks to learn complex patterns.\t\n",
    "AI:- Simulating human intelligence in machines to perform tasks and make decisions.\t\n",
    "DS:- Multidisciplinary field focusing on extracting insights and knowledge from data."
   ]
  },
  {
   "cell_type": "markdown",
   "id": "89cc0867-9476-4139-99a8-05d601beb4ca",
   "metadata": {},
   "source": [
    "Q5 what is the main different between supervised and unsupervised  , semi-supervised"
   ]
  },
  {
   "cell_type": "raw",
   "id": "81752102-850f-4ab5-a75f-4b9bab3efbad",
   "metadata": {},
   "source": [
    "Supervised Learning: Uses labeled data, where the input data is paired with corresponding desired output labels.\n",
    "Unsupervised Learning: Uses unlabeled data without predefined output labels.\n",
    "Semi-Supervised Learning: Utilizes a combination of labeled and unlabeled data."
   ]
  },
  {
   "cell_type": "markdown",
   "id": "1c982128-c14c-4ac8-98af-918985aceb69",
   "metadata": {},
   "source": [
    "Q7. How can unsupervised learning be use  in  anomaly detection"
   ]
  },
  {
   "cell_type": "raw",
   "id": "2bf4949c-5f24-4e59-b382-6f3b108800cc",
   "metadata": {},
   "source": [
    "Clustering for Anomaly Detection: Cluster the data into groups based on their similarities using techniques like \n",
    "                                  k-means clustering or hierarchical clustering.Data points that do not fit well into\n",
    "                                  any cluster or belong to small clusters may be considered anomalies.\n",
    "                                  Anomalies can be identified based on their distance from cluster centroids\n",
    "                                  or by using density-based clustering methods."
   ]
  },
  {
   "cell_type": "markdown",
   "id": "d29af21e-edcc-4d75-9274-a5a07700eef0",
   "metadata": {},
   "source": [
    "Q8. list down commonly used supervised and unsupervised learning algorithms:"
   ]
  },
  {
   "cell_type": "raw",
   "id": "11d77293-048b-4f11-bce4-f1805aab0b0a",
   "metadata": {},
   "source": [
    "Supervised Learning Algorithms:\n",
    "\n",
    "Linear Regression\n",
    "Logistic Regression\n",
    "Decision Trees\n",
    "Random Forest\n",
    "Support Vector Machines (SVM)\n",
    "Naive Bayes\n",
    "k-Nearest Neighbors (k-NN)\n",
    "Gradient Boosting (e.g., XGBoost, LightGBM)\n",
    "Neural Networks\n",
    "Linear Discriminant Analysis (LDA)\n",
    "\n",
    "\n",
    "Unsupervised Learning Algorithms:\n",
    "\n",
    "K-Means Clustering\n",
    "Hierarchical Clustering\n",
    "DBSCAN (Density-Based Spatial Clustering of Applications with Noise)\n",
    "Gaussian Mixture Models (GMM)\n",
    "Principal Component Analysis (PCA)\n",
    "Autoencoders\n",
    "Isolation Forest\n",
    "One-Class SVM (Support Vector Machine)\n",
    "Self-Organizing Maps (SOM)\n",
    "t-Distributed Stochastic Neighbor Embedding (t-SNE)"
   ]
  },
  {
   "cell_type": "markdown",
   "id": "76ad3a6d-8b65-4cf9-88ec-797302900116",
   "metadata": {},
   "source": [
    "Q6. what is test train validation split ? explain each importance terms "
   ]
  },
  {
   "cell_type": "markdown",
   "id": "b1abff35-34d5-4181-bd23-1132631a190d",
   "metadata": {},
   "source": [
    "Training Set: The training set is the largest subset of the data and is used to train the machine learning model.\n",
    "\n",
    "Validation Set: The validation set is a smaller subset of the data that is used for hyperparameter tuning and model selection.\n",
    "\n",
    "Test Set: The test set is a separate subset of the data that the model has never seen during training or tuning.\n",
    "\n",
    "important:-\n",
    "\n",
    "Avoiding Overfitting\n",
    "Hyperparameter Tuning\n",
    "Generalization Assessment\n",
    "Real-world Simulation\n"
   ]
  },
  {
   "cell_type": "code",
   "execution_count": null,
   "id": "67be176f-2ab9-411f-af2f-1fdeb4df3b1d",
   "metadata": {},
   "outputs": [],
   "source": []
  }
 ],
 "metadata": {
  "kernelspec": {
   "display_name": "Python 3 (ipykernel)",
   "language": "python",
   "name": "python3"
  },
  "language_info": {
   "codemirror_mode": {
    "name": "ipython",
    "version": 3
   },
   "file_extension": ".py",
   "mimetype": "text/x-python",
   "name": "python",
   "nbconvert_exporter": "python",
   "pygments_lexer": "ipython3",
   "version": "3.10.8"
  }
 },
 "nbformat": 4,
 "nbformat_minor": 5
}
