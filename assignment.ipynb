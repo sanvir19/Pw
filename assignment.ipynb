{
 "cells": [
  {
   "cell_type": "markdown",
   "id": "ef9afd8b-8b35-48a6-ba56-8ecd872420e4",
   "metadata": {},
   "source": [
    "Q1. How do you comment code in Python? What are the different types of comments?"
   ]
  },
  {
   "cell_type": "code",
   "execution_count": 1,
   "id": "326ef696-5f96-48a2-a540-5a34867a1724",
   "metadata": {},
   "outputs": [],
   "source": [
    "# comment"
   ]
  },
  {
   "cell_type": "code",
   "execution_count": 2,
   "id": "39c637b8-bccc-4fd7-a115-889a7cd72c4f",
   "metadata": {},
   "outputs": [],
   "source": [
    "# line comments \n",
    "# block comments "
   ]
  },
  {
   "cell_type": "markdown",
   "id": "44a375d7-58b2-4098-b056-b6a5e4e3cd5b",
   "metadata": {},
   "source": [
    "What are variables in Python? How do you declare and assign values to variables?"
   ]
  },
  {
   "cell_type": "code",
   "execution_count": 4,
   "id": "03e38e60-f645-410d-930f-dcc8ec2e6ab3",
   "metadata": {},
   "outputs": [],
   "source": [
    " # variable is string and assign by \"=\""
   ]
  },
  {
   "cell_type": "markdown",
   "id": "6e15cdd5-772b-4454-9fb9-48773e2f615d",
   "metadata": {},
   "source": [
    "How do you convert one data type to another in Python?"
   ]
  },
  {
   "cell_type": "code",
   "execution_count": 5,
   "id": "57dde3fb-7d31-4cde-8d9b-4601ac49a627",
   "metadata": {},
   "outputs": [
    {
     "name": "stdout",
     "output_type": "stream",
     "text": [
      "<class 'list'>\n",
      "<class 'tuple'>\n"
     ]
    }
   ],
   "source": [
    "# using type  funtion \n",
    "x = [1,2,3]\n",
    "print(type(x))\n",
    "y = tuple(x)\n",
    "print(type(y))"
   ]
  },
  {
   "cell_type": "markdown",
   "id": "32fe36f4-9db8-40d1-8310-81a9322b8c42",
   "metadata": {},
   "source": [
    "Q5. Given a list my_list = [1, 2, 3, 4, 5], write the code to slice the list and obtain the sub-list [2, 3]."
   ]
  },
  {
   "cell_type": "code",
   "execution_count": 6,
   "id": "f49dbead-4b43-4b5c-bdf5-53204b97c362",
   "metadata": {},
   "outputs": [
    {
     "data": {
      "text/plain": [
       "[2, 3]"
      ]
     },
     "execution_count": 6,
     "metadata": {},
     "output_type": "execute_result"
    }
   ],
   "source": [
    "my_list = [1,2,3,4,5]\n",
    "my_list[1:3]"
   ]
  },
  {
   "cell_type": "markdown",
   "id": "fc8a8a50-d8b7-4f2b-a444-b690a195c87c",
   "metadata": {},
   "source": [
    "Q5. Given a list my_list = [1, 2, 3, 4, 5], write the code to slice the list and obtain the sub-list [2, 3]."
   ]
  },
  {
   "cell_type": "code",
   "execution_count": 7,
   "id": "dac461d4-57d8-4a3e-bb06-cc8daf5d2a22",
   "metadata": {},
   "outputs": [],
   "source": [
    "# complex number have a imagery number \n",
    "# like 5 + 2J\n"
   ]
  },
  {
   "cell_type": "markdown",
   "id": "dec6e34a-3462-4d5c-b71f-e6972bf72334",
   "metadata": {},
   "source": [
    "Q7. What is the correct way to declare a variable named age and assign the value 25 to it?"
   ]
  },
  {
   "cell_type": "code",
   "execution_count": 8,
   "id": "b22100b0-c418-48c4-8a07-c5e25af99604",
   "metadata": {},
   "outputs": [],
   "source": [
    "age = 25"
   ]
  },
  {
   "cell_type": "markdown",
   "id": "bd47f8d2-bd4d-4da3-9a27-5b4b21435835",
   "metadata": {},
   "source": [
    "Q8. Declare a variable named price and assign the value 9.99 to it. What data type does this variable\n",
    "belong to?"
   ]
  },
  {
   "cell_type": "code",
   "execution_count": 10,
   "id": "f760b7fc-a021-4ff2-8f49-2df2d99af640",
   "metadata": {},
   "outputs": [
    {
     "name": "stdout",
     "output_type": "stream",
     "text": [
      "<class 'float'>\n"
     ]
    }
   ],
   "source": [
    "x = 9.99\n",
    "#float\n",
    "print(type(x))"
   ]
  },
  {
   "cell_type": "markdown",
   "id": "15a734bb-87b8-4eff-853e-2127b6128002",
   "metadata": {},
   "source": [
    "Q9. Create a variable named name and assign your full name to it as a string. How would you print the\n",
    "value of this variable?"
   ]
  },
  {
   "cell_type": "code",
   "execution_count": 15,
   "id": "3e9ce7d8-fd54-40d7-a92f-f53e42b3894a",
   "metadata": {},
   "outputs": [
    {
     "name": "stdout",
     "output_type": "stream",
     "text": [
      "santosh yadav\n"
     ]
    }
   ],
   "source": [
    "name  = \"santosh yadav\"\n",
    "print(name)"
   ]
  },
  {
   "cell_type": "markdown",
   "id": "d3352903-17b0-4261-9f88-23482bc0a26a",
   "metadata": {},
   "source": [
    "Q10. Given the string \"Hello, World!\", extract the substring \"World\"."
   ]
  },
  {
   "cell_type": "code",
   "execution_count": 16,
   "id": "6b782640-08ad-4dd2-b4df-f0fffb18d22d",
   "metadata": {},
   "outputs": [
    {
     "data": {
      "text/plain": [
       "'World!'"
      ]
     },
     "execution_count": 16,
     "metadata": {},
     "output_type": "execute_result"
    }
   ],
   "source": [
    "x = \"Hellow World!\"\n",
    "x[7:]"
   ]
  },
  {
   "cell_type": "markdown",
   "id": "ca7329fe-2471-4c6d-944f-ff32659b620b",
   "metadata": {},
   "source": [
    "Q11. Create a variable named \"is_student\" and assign it a boolean value indicating whether you are\n",
    "currently a student or not."
   ]
  },
  {
   "cell_type": "code",
   "execution_count": null,
   "id": "9fadd4e5-bf03-4389-a2ee-8c2657aa7659",
   "metadata": {},
   "outputs": [],
   "source": [
    "is_student = True"
   ]
  }
 ],
 "metadata": {
  "kernelspec": {
   "display_name": "Python 3 (ipykernel)",
   "language": "python",
   "name": "python3"
  },
  "language_info": {
   "codemirror_mode": {
    "name": "ipython",
    "version": 3
   },
   "file_extension": ".py",
   "mimetype": "text/x-python",
   "name": "python",
   "nbconvert_exporter": "python",
   "pygments_lexer": "ipython3",
   "version": "3.10.8"
  }
 },
 "nbformat": 4,
 "nbformat_minor": 5
}
